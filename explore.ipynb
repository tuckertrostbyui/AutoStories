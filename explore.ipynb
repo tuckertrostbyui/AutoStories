{
 "cells": [
  {
   "cell_type": "code",
   "execution_count": null,
   "metadata": {},
   "outputs": [
    {
     "name": "stdout",
     "output_type": "stream",
     "text": [
      "Renaming completed!\n"
     ]
    }
   ],
   "source": [
    "# import os\n",
    "\n",
    "# # Path to the data folder\n",
    "# data_folder = \"data\"\n",
    "\n",
    "# # List all files in the data folder\n",
    "# files = [f for f in os.listdir(data_folder) if f.endswith('.mp4')]\n",
    "\n",
    "# # Sort files to ensure consistent renaming order\n",
    "# files.sort()\n",
    "\n",
    "# # Rename each file\n",
    "# for index, file in enumerate(files, start=1):\n",
    "#     new_name = f\"minecraftparkour{index}.mp4\"\n",
    "#     old_path = os.path.join(data_folder, file)\n",
    "#     new_path = os.path.join(data_folder, new_name)\n",
    "#     os.rename(old_path, new_path)\n",
    "\n",
    "# print(\"Renaming completed!\")"
   ]
  },
  {
   "cell_type": "code",
   "execution_count": null,
   "metadata": {},
   "outputs": [],
   "source": [
    "# import pandas as pd\n"
   ]
  },
  {
   "cell_type": "code",
   "execution_count": null,
   "metadata": {},
   "outputs": [],
   "source": [
    "# import praw\n",
    "# import os"
   ]
  },
  {
   "cell_type": "code",
   "execution_count": null,
   "metadata": {},
   "outputs": [],
   "source": [
    "# reddit = praw.Reddit(\n",
    "#     client_id = os.environ[\"REDDIT_CLIENT_ID\"],\n",
    "#     client_secret = os.environ[\"REDDIT_CLIENT_SECRET\"],\n",
    "#     user_agent = os.environ[\"REDDIT_USER_AGENT\"])"
   ]
  },
  {
   "cell_type": "code",
   "execution_count": null,
   "metadata": {},
   "outputs": [
    {
     "data": {
      "text/html": [
       "<div>\n",
       "<style scoped>\n",
       "    .dataframe tbody tr th:only-of-type {\n",
       "        vertical-align: middle;\n",
       "    }\n",
       "\n",
       "    .dataframe tbody tr th {\n",
       "        vertical-align: top;\n",
       "    }\n",
       "\n",
       "    .dataframe thead th {\n",
       "        text-align: right;\n",
       "    }\n",
       "</style>\n",
       "<table border=\"1\" class=\"dataframe\">\n",
       "  <thead>\n",
       "    <tr style=\"text-align: right;\">\n",
       "      <th></th>\n",
       "      <th>story_id</th>\n",
       "      <th>subreddit</th>\n",
       "      <th>title</th>\n",
       "      <th>text</th>\n",
       "      <th>score</th>\n",
       "      <th>author</th>\n",
       "      <th>char_len</th>\n",
       "    </tr>\n",
       "  </thead>\n",
       "  <tbody>\n",
       "    <tr>\n",
       "      <th>0</th>\n",
       "      <td>1njeb4g</td>\n",
       "      <td>AmItheAsshole</td>\n",
       "      <td>AITA For filing a police report on a good frie...</td>\n",
       "      <td>More context: We were out to dinner one night ...</td>\n",
       "      <td>10618</td>\n",
       "      <td>Zealousideal_Ear7529</td>\n",
       "      <td>2572</td>\n",
       "    </tr>\n",
       "  </tbody>\n",
       "</table>\n",
       "</div>"
      ],
      "text/plain": [
       "  story_id      subreddit                                              title  \\\n",
       "0  1njeb4g  AmItheAsshole  AITA For filing a police report on a good frie...   \n",
       "\n",
       "                                                text  score  \\\n",
       "0  More context: We were out to dinner one night ...  10618   \n",
       "\n",
       "                 author  char_len  \n",
       "0  Zealousideal_Ear7529      2572  "
      ]
     },
     "execution_count": 16,
     "metadata": {},
     "output_type": "execute_result"
    }
   ],
   "source": [
    "# reddit_stories = []\n",
    "# for story in reddit.subreddit(\"AmItheAsshole\").top(time_filter='day',limit=1):\n",
    "#     reddit_stories.append({\n",
    "#         'story_id': story.id,\n",
    "#         'subreddit': story.subreddit,\n",
    "#         'title': story.title,\n",
    "#         'text': story.selftext,\n",
    "#         'score':story.score,\n",
    "#         'author': story.author,\n",
    "#         'char_len': len(story.selftext)}\n",
    "#     )\n",
    "\n",
    "# reddit_stories = pd.DataFrame(reddit_stories)\n",
    "\n",
    "# reddit_stories.head()"
   ]
  },
  {
   "cell_type": "code",
   "execution_count": null,
   "metadata": {},
   "outputs": [],
   "source": []
  },
  {
   "cell_type": "code",
   "execution_count": null,
   "metadata": {},
   "outputs": [
    {
     "data": {
      "text/plain": [
       "'More context: We were out to dinner one night at an expensive hotel. My boyfriend let me borrow his Canon G7X (1800) camera to bring to take pictures with my friends. At the conclusion of the dinner, I went up to the room and realized the camera was gone. I went back right down to the table and no one had seen it. I immediately got with hotel security and she is on video, clear as day, swiping the camera when my back was turned and shoving it in her purse. I covered for her initially with my friend, and contacted her to find a resolution. She had taken the camera with her and my other friends to a club after dinner, which I did not attend, and lost it there. For background, this is my good college friend who I know well (the camera thief). She has been taken on free trips to Coachella and St Barths on my dime (not kidding), as well as many other things. We have done a lot together and are good friends, so I expected her to feel sorry. Initially she lied, saying she did not have it. When I told her we had video, she confessed and then said yes she took it but lost it at the next bar she went to with my other friends. It is now gone. I asked her to help me replace it by going in on me with the cost. She has refused all measured or resolutions, and now I feel I have nothing left to do but file a police report and let them handle it. It is impacting my relationship, and I am furious my friend is not helping at all. Why should I be on the hook for something she stole? I have given her three weeks to help me resolve this, but she insists she is going to do nothing. I am being pressed by my boyfriend to either replace the camera or help him file a report with her info and the footage. I even asked her to just throw in half or less than half the cost to help, but she still refuses. I do not want her to get in trouble, but I am at the point where I feel she really does not care.\\n\\nUPDATE: I sent her a text this AM telling her if I do not receive full cost of the camera or shipping confirmation of a new camera from an approved vendor to a provided address by end of day Friday, we will be filing a report with the police Saturday AM. I felt like an asshole typing this out to her, but I have to do it.\\n\\nUPDATE X2: She told me she is sick of me and that I will be receiving a tracking number by 12 eastern on friday and not to blame her if the package is never receieved. I told her if she was my real friend, she would be sorry and in no way will I allow this to be flipped on me. Should I ask if the camera is new, or the one that \"Dissapeared\"? '"
      ]
     },
     "execution_count": 17,
     "metadata": {},
     "output_type": "execute_result"
    }
   ],
   "source": [
    "# reddit_stories.text[0]"
   ]
  },
  {
   "cell_type": "code",
   "execution_count": null,
   "metadata": {},
   "outputs": [
    {
     "name": "stderr",
     "output_type": "stream",
     "text": [
      "/Users/tuckertrost/Documents/GitHub/AutoStories/.venv/lib/python3.12/site-packages/tqdm/auto.py:21: TqdmWarning: IProgress not found. Please update jupyter and ipywidgets. See https://ipywidgets.readthedocs.io/en/stable/user_install.html\n",
      "  from .autonotebook import tqdm as notebook_tqdm\n",
      "WARNING: All log messages before absl::InitializeLog() is called are written to STDERR\n",
      "E0000 00:00:1758303289.850337  182466 alts_credentials.cc:93] ALTS creds ignored. Not running on GCP and untrusted ALTS is not enabled.\n"
     ]
    },
    {
     "data": {
      "text/plain": [
       "'So, Am I the Asshole for this? I\\'m 39 and temporarily using a wheelchair for longer distances. My physical therapist suggested it because my leg has an undiagnosed issue. My husband rented a great small chair. I can even roll myself – it\\'s actually a good workout! I’ve been practicing maneuvers in our local shopping center.\\nLast weekend, my husband and I were at a small zoo. He was getting coffee, and I waited outside a restaurant. Then, a kid, maybe seven, and his dad approached. They were super curious about my wheelchair.\\nLook, I totally get that kids are curious. But I barely understand why I\\'m in this chair myself right now. I was definitely not in the mood to explain my personal issues or give an impromptu lesson. So, I kept it simple. I just told them, \"Sometimes someone\\'s leg doesn\\'t work.\"\\nBut that only led to more questions. I finally said directly, \"I don\\'t want to answer any more questions right now, I\\'m just too tired.\" The dad was NOT happy. He actually said it would be a \"good lesson\" for his kid. I wanted to tell him I\\'m not some zoo exhibit, but with the kid right there, I just didn\\'t want to cause a scene. Luckily, my husband appeared with coffee right then and quickly rolled me away.\\nSo, Am I the Asshole for not wanting to educate this kid about my wheelchair?'"
      ]
     },
     "execution_count": 1,
     "metadata": {},
     "output_type": "execute_result"
    }
   ],
   "source": [
    "# from autoshorts.adapters.reddit_praw import RedditStorySource\n",
    "\n",
    "# src = RedditStorySource(subreddit=\"AmItheAsshole\")\n",
    "\n",
    "# s = src.get_story()\n",
    "\n",
    "# s.ai_text"
   ]
  },
  {
   "cell_type": "code",
   "execution_count": null,
   "metadata": {},
   "outputs": [
    {
     "data": {
      "text/plain": [
       "\"My friend and I go to the same university, living 30 minutes apart. We both used to drive ourselves. Last month, my friend sold his car. His reason? To buy tickets for EDC, a big music festival, and some DJ merch. I thought it was impulsive, but it was his choice. This week, he started asking me for rides to class every morning. I didn’t mind once or twice if it was on my way, but it quickly became an everyday expectation. He’d call me every night to confirm the pickup. Last night, when I hesitated, he said, “You’re driving there anyway, it’s not that big of a deal.” But here’s why it IS a big deal: picking him up adds about an hour to my daily round trip. I end up rushing to find parking and get to class. And he hasn't offered any money for gas. So, I told him directly I can't be his daily driver. I have my own busy schedule and a part-time job to juggle. My friend just kept saying, “Not cool, bro. Not cool.” I reminded him that selling his car for tickets wasn't cool if he couldn't afford the consequences. It’s not my responsibility. He hung up on me while I was still talking. I don't think I'm wrong. He needs to be responsible for his choices, not use me as his daily ride. So, Am I the Asshole for refusing to drive him?\""
      ]
     },
     "execution_count": 2,
     "metadata": {},
     "output_type": "execute_result"
    }
   ],
   "source": [
    "# s.ai_text"
   ]
  },
  {
   "cell_type": "code",
   "execution_count": null,
   "metadata": {},
   "outputs": [
    {
     "data": {
      "text/plain": [
       "\"My friend and I go to the same university, but we live in different neighborhoods about 30 minutes apart. Up until recently, we both drove ourselves. Last month, my friend decided to sell his car to buy EDC tickets and some merch for his favorite DJ. I thought it was kind of impulsive, but it’s his money tho. This week, he started asking me to drive him to class every morning. And I didn’t mind giving him a ride once or twice when it was on the way, but then it turned into an everyday expectation. My friend calls me every night to make sure I’m still picking him up, and last night he called me again and I hesitated, he didn't seemed get me there and even he said, Well, you’re driving there anyway, it’s not that big of a deal.\\n\\n\\n\\nBut here’s the thing, picking my friend isn’t just a small detour. It adds about an hour to my round trip, and I end up rushing to find parking and settle before class. Also he's not sharing some money for the gasoline. So I told him directly that I can’t be his daily driver, especially since I have my own schedule and part time job to juggle. my friend just kept saying its not cool bro, not cool. I reminded him that selling hi car and buying EDC tickets was also not cool if you can't afford it, not my responsibility to cover for, then he cut off the call while I'm still talking to him. i don't think its wrong on my side. But I want him to be responsible and not use me as his daily driver. \\n\\n\\n\\nAITA\""
      ]
     },
     "execution_count": 4,
     "metadata": {},
     "output_type": "execute_result"
    }
   ],
   "source": [
    "# s.text"
   ]
  },
  {
   "cell_type": "code",
   "execution_count": null,
   "metadata": {},
   "outputs": [],
   "source": [
    "# from gtts import gTTS\n",
    "# tts = gTTS(s.ai_text, lang='en')\n",
    "# tts.save('hello.mp3')"
   ]
  },
  {
   "cell_type": "code",
   "execution_count": null,
   "metadata": {},
   "outputs": [
    {
     "name": "stdout",
     "output_type": "stream",
     "text": [
      "Available voices:\n",
      "0 Albert\n",
      "1 Alice\n",
      "2 Alva\n",
      "3 Amélie\n",
      "4 Amira\n",
      "5 Anna\n",
      "6 Bad News\n",
      "7 Bahh\n",
      "8 Bells\n",
      "9 Boing\n",
      "10 Bubbles\n",
      "11 Carmit\n",
      "12 Cellos\n",
      "13 Damayanti\n",
      "14 Daniel\n",
      "15 Daria\n",
      "16 Wobble\n",
      "17 Eddy (German (Germany))\n",
      "18 Eddy (English (UK))\n",
      "19 Eddy (English (US))\n",
      "20 Eddy (Spanish (Spain))\n",
      "21 Eddy (Spanish (Mexico))\n",
      "22 Eddy (Finnish (Finland))\n",
      "23 Eddy (French (Canada))\n",
      "24 Eddy (French (France))\n",
      "25 Eddy (Italian (Italy))\n",
      "26 Eddy (Portuguese (Brazil))\n",
      "27 Ellen\n",
      "28 Flo (German (Germany))\n",
      "29 Flo (English (UK))\n",
      "30 Flo (English (US))\n",
      "31 Flo (Spanish (Spain))\n",
      "32 Flo (Spanish (Mexico))\n",
      "33 Flo (Finnish (Finland))\n",
      "34 Flo (French (Canada))\n",
      "35 Flo (French (France))\n",
      "36 Flo (Italian (Italy))\n",
      "37 Flo (Portuguese (Brazil))\n",
      "38 Fred\n",
      "39 Good News\n",
      "40 Grandma (German (Germany))\n",
      "41 Grandma (English (UK))\n",
      "42 Grandma (English (US))\n",
      "43 Grandma (Spanish (Spain))\n",
      "44 Grandma (Spanish (Mexico))\n",
      "45 Grandma (Finnish (Finland))\n",
      "46 Grandma (French (Canada))\n",
      "47 Grandma (French (France))\n",
      "48 Grandma (Italian (Italy))\n",
      "49 Grandma (Portuguese (Brazil))\n",
      "50 Grandpa (German (Germany))\n",
      "51 Grandpa (English (UK))\n",
      "52 Grandpa (English (US))\n",
      "53 Grandpa (Spanish (Spain))\n",
      "54 Grandpa (Spanish (Mexico))\n",
      "55 Grandpa (Finnish (Finland))\n",
      "56 Grandpa (French (Canada))\n",
      "57 Grandpa (French (France))\n",
      "58 Grandpa (Italian (Italy))\n",
      "59 Grandpa (Portuguese (Brazil))\n",
      "60 Jester\n",
      "61 Ioana\n",
      "62 Jacques\n",
      "63 Joana\n",
      "64 Junior\n",
      "65 Kanya\n",
      "66 Karen\n",
      "67 Kathy\n",
      "68 Kyoko\n",
      "69 Lana\n",
      "70 Laura\n",
      "71 Lekha\n",
      "72 Lesya\n",
      "73 Linh\n",
      "74 Luciana\n",
      "75 Majed\n",
      "76 Tünde\n",
      "77 Meijia\n",
      "78 Melina\n",
      "79 Milena\n",
      "80 Moira\n",
      "81 Mónica\n",
      "82 Montse\n",
      "83 Nora\n",
      "84 Organ\n",
      "85 Paulina\n",
      "86 Superstar\n",
      "87 Ralph\n",
      "88 Reed (German (Germany))\n",
      "89 Reed (English (UK))\n",
      "90 Reed (English (US))\n",
      "91 Reed (Spanish (Spain))\n",
      "92 Reed (Spanish (Mexico))\n",
      "93 Reed (Finnish (Finland))\n",
      "94 Reed (French (Canada))\n",
      "95 Reed (Italian (Italy))\n",
      "96 Reed (Portuguese (Brazil))\n",
      "97 Rishi\n",
      "98 Rocko (German (Germany))\n",
      "99 Rocko (English (UK))\n",
      "100 Rocko (English (US))\n",
      "101 Rocko (Spanish (Spain))\n",
      "102 Rocko (Spanish (Mexico))\n",
      "103 Rocko (Finnish (Finland))\n",
      "104 Rocko (French (Canada))\n",
      "105 Rocko (French (France))\n",
      "106 Rocko (Italian (Italy))\n",
      "107 Rocko (Portuguese (Brazil))\n",
      "108 Samantha\n",
      "109 Sandy (German (Germany))\n",
      "110 Sandy (English (UK))\n",
      "111 Sandy (English (US))\n",
      "112 Sandy (Spanish (Spain))\n",
      "113 Sandy (Spanish (Mexico))\n",
      "114 Sandy (Finnish (Finland))\n",
      "115 Sandy (French (Canada))\n",
      "116 Sandy (French (France))\n",
      "117 Sandy (Italian (Italy))\n",
      "118 Sandy (Portuguese (Brazil))\n",
      "119 Sara\n",
      "120 Satu\n",
      "121 Shelley (German (Germany))\n",
      "122 Shelley (English (UK))\n",
      "123 Shelley (English (US))\n",
      "124 Shelley (Spanish (Spain))\n",
      "125 Shelley (Spanish (Mexico))\n",
      "126 Shelley (Finnish (Finland))\n",
      "127 Shelley (French (Canada))\n",
      "128 Shelley (French (France))\n",
      "129 Shelley (Italian (Italy))\n",
      "130 Shelley (Portuguese (Brazil))\n",
      "131 Sinji\n",
      "132 Tessa\n",
      "133 Thomas\n",
      "134 Tingting\n",
      "135 Trinoids\n",
      "136 Whisper\n",
      "137 Xander\n",
      "138 Yelda\n",
      "139 Yuna\n",
      "140 Zarvox\n",
      "141 Zosia\n",
      "142 Zuzana\n",
      "✅ Generated test_tts.wav\n"
     ]
    }
   ],
   "source": [
    "# import pyttsx3\n",
    "\n",
    "# # Initialize the engine\n",
    "# engine = pyttsx3.init()\n",
    "\n",
    "# # Pick a voice (optional)\n",
    "# voices = engine.getProperty('voices')\n",
    "# print(\"Available voices:\")\n",
    "# for idx, v in enumerate(voices):\n",
    "#     print(idx, v.name)\n",
    "\n",
    "# # Set voice and speaking rate\n",
    "# engine.setProperty('voice', voices[6].id)  # change index to try different voices\n",
    "# engine.setProperty('rate', 175)            # words per minute\n",
    "\n",
    "# # Save to file (works in notebooks & scripts)\n",
    "# engine.save_to_file(\"Hello, this is a pyttsx3 test. I am speaking for your TikTok video.\", \"test_tts.mp3\")\n",
    "\n",
    "# # Run the queued commands\n",
    "# engine.runAndWait()\n",
    "\n",
    "# print(\"✅ Generated test_tts.wav\")\n"
   ]
  },
  {
   "cell_type": "code",
   "execution_count": null,
   "metadata": {},
   "outputs": [
    {
     "ename": "SyntaxError",
     "evalue": "invalid syntax (1641757992.py, line 1)",
     "output_type": "error",
     "traceback": [
      "  \u001b[36mCell\u001b[39m\u001b[36m \u001b[39m\u001b[32mIn[5]\u001b[39m\u001b[32m, line 1\u001b[39m\n\u001b[31m    \u001b[39m\u001b[31mafplay test_tts.wav\u001b[39m\n           ^\n\u001b[31mSyntaxError\u001b[39m\u001b[31m:\u001b[39m invalid syntax\n"
     ]
    }
   ],
   "source": [
    "# afplay test_tts.wav\n"
   ]
  }
 ],
 "metadata": {
  "kernelspec": {
   "display_name": ".venv",
   "language": "python",
   "name": "python3"
  },
  "language_info": {
   "codemirror_mode": {
    "name": "ipython",
    "version": 3
   },
   "file_extension": ".py",
   "mimetype": "text/x-python",
   "name": "python",
   "nbconvert_exporter": "python",
   "pygments_lexer": "ipython3",
   "version": "3.12.6"
  }
 },
 "nbformat": 4,
 "nbformat_minor": 2
}
